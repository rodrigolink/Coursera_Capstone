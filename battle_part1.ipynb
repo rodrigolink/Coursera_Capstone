{
 "cells": [
  {
   "cell_type": "markdown",
   "metadata": {},
   "source": [
    "# The Battle of Neighborhoods - Part 1"
   ]
  },
  {
   "cell_type": "markdown",
   "metadata": {},
   "source": [
    "## Definition of the Problem\n",
    "After the completion of a certain Data Science course, an young and brave Brazilian data scientist is flooded with job offers from all over the world. After thoughtful consideration, he realizes he really likes where he currently lives and would like to have the same kind of venues around him wherever the job is. <br>\n",
    "From the job offers, he selects a few cities that seem interesting and sets out to compare his current city's attractions to the neighborhoods of each new possible location, trying to identify similarities. <br>\n",
    "Two approaches will be used:\n",
    "1. Based on the similarity, we will present a list of the three neighborhoods from each city that better match his current location, display a metric of the similarity between them and present three new venue types what he should try out at the new location.\n",
    "2. A clustering technique will be used to group all the neighborhoods into sets and then classify the current location. This way he can see if the ones that better match his current neighborhood, even if they are all in the same city. This would mean that particular city is a better fit over all. "
   ]
  },
  {
   "cell_type": "markdown",
   "metadata": {},
   "source": [
    "## Definition of the Data"
   ]
  },
  {
   "cell_type": "markdown",
   "metadata": {},
   "source": [
    "1. The first input needed from the user is his current location, so that we can create the standard we will use to compare the cities. *The format is 'Neighborhood, City, Country'.*\n",
    "2. The second input we need is the list of possible cities. *The format is a list with each 'City, Country'.*\n",
    "3. From these, we have to manually find and webscrape the list of neighborhoods or districts and their coordinates. \n",
    "4. With all the coordinates, we will use the Foursquare API to explore 100 venues around a 1km radius from the center of each neighborhood. \n",
    "5. We'll construct a Dataframe where each row is a neighborhood from a different city and each column is the percentage of each type of venue.\n",
    "6. First we will compute the correlation between each row and the data from the current location. The end result is a list with the 3 top neighborhoods that better match, the correlation, and the top 3 venue types taht are present at the new location, but not at the current one.\n",
    "7. The second approach is to use clustering to identify a group of neighborhoods that is closer to the original location. We'll try a different number of clusters to optimize the separation. \n",
    "8. We'll fit the current location data into the model and present the list of neighborhoods that are in the same cluster."
   ]
  },
  {
   "cell_type": "code",
   "execution_count": null,
   "metadata": {},
   "outputs": [],
   "source": []
  }
 ],
 "metadata": {
  "kernelspec": {
   "display_name": "Python 3",
   "language": "python",
   "name": "python3"
  },
  "language_info": {
   "codemirror_mode": {
    "name": "ipython",
    "version": 3
   },
   "file_extension": ".py",
   "mimetype": "text/x-python",
   "name": "python",
   "nbconvert_exporter": "python",
   "pygments_lexer": "ipython3",
   "version": "3.8.3"
  }
 },
 "nbformat": 4,
 "nbformat_minor": 4
}
